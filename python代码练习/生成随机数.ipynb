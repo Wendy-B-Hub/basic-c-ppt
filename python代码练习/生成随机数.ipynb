{
 "cells": [
  {
   "cell_type": "code",
   "execution_count": 1,
   "metadata": {},
   "outputs": [
    {
     "data": {
      "text/plain": [
       "array([[[0.97638969, 0.93180189, 0.15061668, 0.92152622, 0.78076549],\n",
       "        [0.55340213, 0.04261929, 0.88603516, 0.98013361, 0.76826973],\n",
       "        [0.41431791, 0.00257023, 0.05665658, 0.01958953, 0.56259365],\n",
       "        [0.07517183, 0.32009204, 0.66801589, 0.04441585, 0.98070846]],\n",
       "\n",
       "       [[0.39609293, 0.6475492 , 0.50168738, 0.35648481, 0.5620597 ],\n",
       "        [0.36045235, 0.92677461, 0.93472127, 0.39608829, 0.80341707],\n",
       "        [0.79555518, 0.56714893, 0.25963613, 0.73798456, 0.45666743],\n",
       "        [0.4672391 , 0.40239608, 0.80043136, 0.2301797 , 0.18227934]],\n",
       "\n",
       "       [[0.43691601, 0.73086482, 0.71938101, 0.72750008, 0.49068845],\n",
       "        [0.92029008, 0.69705485, 0.33694062, 0.83176258, 0.0602055 ],\n",
       "        [0.32457186, 0.68214271, 0.80133525, 0.44033628, 0.43423765],\n",
       "        [0.85390302, 0.05367023, 0.00182243, 0.3893366 , 0.75861339]]])"
      ]
     },
     "execution_count": 1,
     "metadata": {},
     "output_type": "execute_result"
    }
   ],
   "source": [
    "#最外层为三组，然后每组都是四行五列\n",
    "#np.random.rand(3,4,5)  生成随机数，都是0-1之间的浮点数\n",
    "import numpy as np\n",
    "a=np.random.rand(3,4,5)\n",
    "a"
   ]
  },
  {
   "cell_type": "code",
   "execution_count": 2,
   "metadata": {},
   "outputs": [
    {
     "data": {
      "text/plain": [
       "array([[[-1.58561415,  0.75725851,  0.00401443,  0.26489104,\n",
       "          0.82416639],\n",
       "        [-0.29914593, -0.51775485, -0.56563285,  0.89969076,\n",
       "          1.63234151],\n",
       "        [ 1.49138626, -0.71494676, -0.58901107, -0.23769042,\n",
       "         -0.40743102],\n",
       "        [-0.37774271, -0.09803878, -0.25218822,  0.50212774,\n",
       "          0.84886921]],\n",
       "\n",
       "       [[ 1.39481209,  0.11115985,  0.01278647, -0.10435452,\n",
       "          0.07682657],\n",
       "        [-1.51660764,  0.5892783 ,  0.66075283, -0.24593205,\n",
       "         -0.78198421],\n",
       "        [ 0.03041266,  1.92253413,  1.4841899 ,  0.41133192,\n",
       "          1.05179421],\n",
       "        [-0.22048492,  0.51234905,  0.23617186,  0.46259872,\n",
       "          0.09048126]],\n",
       "\n",
       "       [[-0.88616753, -1.68069625, -1.15636443, -0.81513448,\n",
       "          0.17551566],\n",
       "        [ 1.12034083, -0.79093708,  1.24910051,  0.67051572,\n",
       "         -0.01653401],\n",
       "        [-0.99751611, -2.14735095, -1.32868751, -1.27215543,\n",
       "         -1.89543277],\n",
       "        [-0.30643437,  0.96981929,  0.15192823, -0.54755401,\n",
       "         -0.9682009 ]]])"
      ]
     },
     "execution_count": 2,
     "metadata": {},
     "output_type": "execute_result"
    }
   ],
   "source": [
    "#np.random.randn(3,4,5)  生成随机数，都是0-1之间的浮点数，且呈现正态分布\n",
    "sn=np.random.randn(3,4,5)\n",
    "sn"
   ]
  },
  {
   "cell_type": "code",
   "execution_count": 3,
   "metadata": {},
   "outputs": [
    {
     "data": {
      "text/plain": [
       "array([[171, 135, 178, 165],\n",
       "       [161, 183, 165, 191],\n",
       "       [139, 158, 179, 191]])"
      ]
     },
     "execution_count": 3,
     "metadata": {},
     "output_type": "execute_result"
    }
   ],
   "source": [
    "#randint(100,200,(3,4))，取值在100-200之间，三行四列\n",
    "b=np.random.randint(100,200,(3,4))\n",
    "b"
   ]
  },
  {
   "cell_type": "code",
   "execution_count": 6,
   "metadata": {},
   "outputs": [
    {
     "data": {
      "text/plain": [
       "array([[109, 115, 164, 128],\n",
       "       [189, 193, 129, 108],\n",
       "       [173, 100, 140, 136]])"
      ]
     },
     "execution_count": 6,
     "metadata": {},
     "output_type": "execute_result"
    }
   ],
   "source": [
    "np.random.seed(10)\n",
    "np.random.randint(100,200,(3,4))"
   ]
  },
  {
   "cell_type": "code",
   "execution_count": 5,
   "metadata": {},
   "outputs": [
    {
     "data": {
      "text/plain": [
       "array([[109, 115, 164, 128],\n",
       "       [189, 193, 129, 108],\n",
       "       [173, 100, 140, 136]])"
      ]
     },
     "execution_count": 5,
     "metadata": {},
     "output_type": "execute_result"
    }
   ],
   "source": []
  },
  {
   "cell_type": "code",
   "execution_count": null,
   "metadata": {},
   "outputs": [],
   "source": [
    "#shuffle(a),根据数组a的第1轴进行随排列，改变数组x\n",
    "#permutation(a),根据数组a的第1轴产生一个新的乱序数组，不改变数组x\n",
    "#choice(a[,size,replace,p]),从一维数组a中以概率p抽取元素，形成size形状新数组 replace表示是否可以重用元素，默认为False"
   ]
  },
  {
   "cell_type": "code",
   "execution_count": 7,
   "metadata": {},
   "outputs": [
    {
     "data": {
      "text/plain": [
       "array([[116, 111, 154, 188],\n",
       "       [162, 133, 172, 178],\n",
       "       [149, 151, 154, 177]])"
      ]
     },
     "execution_count": 7,
     "metadata": {},
     "output_type": "execute_result"
    }
   ],
   "source": [
    "import numpy as np\n",
    "a=np.random.randint(100,200,(3,4))\n",
    "a"
   ]
  },
  {
   "cell_type": "code",
   "execution_count": 8,
   "metadata": {},
   "outputs": [
    {
     "data": {
      "text/plain": [
       "array([[116, 111, 154, 188],\n",
       "       [149, 151, 154, 177],\n",
       "       [162, 133, 172, 178]])"
      ]
     },
     "execution_count": 8,
     "metadata": {},
     "output_type": "execute_result"
    }
   ],
   "source": [
    "np.random.shuffle(a)\n",
    "a"
   ]
  },
  {
   "cell_type": "code",
   "execution_count": 9,
   "metadata": {},
   "outputs": [
    {
     "data": {
      "text/plain": [
       "array([[125, 113, 192, 186],\n",
       "       [130, 130, 189, 112],\n",
       "       [165, 131, 157, 136]])"
      ]
     },
     "execution_count": 9,
     "metadata": {},
     "output_type": "execute_result"
    }
   ],
   "source": [
    "import numpy as np\n",
    "a=np.random.randint(100,200,(3,4))\n",
    "a"
   ]
  },
  {
   "cell_type": "code",
   "execution_count": 11,
   "metadata": {},
   "outputs": [
    {
     "data": {
      "text/plain": [
       "array([[125, 113, 192, 186],\n",
       "       [130, 130, 189, 112],\n",
       "       [165, 131, 157, 136]])"
      ]
     },
     "execution_count": 11,
     "metadata": {},
     "output_type": "execute_result"
    }
   ],
   "source": [
    "b=np.random.permutation(a)\n",
    "a"
   ]
  },
  {
   "cell_type": "code",
   "execution_count": 12,
   "metadata": {},
   "outputs": [
    {
     "data": {
      "text/plain": [
       "array([[165, 131, 157, 136],\n",
       "       [125, 113, 192, 186],\n",
       "       [130, 130, 189, 112]])"
      ]
     },
     "execution_count": 12,
     "metadata": {},
     "output_type": "execute_result"
    }
   ],
   "source": [
    "b"
   ]
  },
  {
   "cell_type": "code",
   "execution_count": 14,
   "metadata": {},
   "outputs": [
    {
     "data": {
      "text/plain": [
       "array([123, 194, 111, 128, 174, 188, 109, 115])"
      ]
     },
     "execution_count": 14,
     "metadata": {},
     "output_type": "execute_result"
    }
   ],
   "source": [
    "import numpy as np\n",
    "b=np.random.randint(100,200,(8,))\n",
    "b"
   ]
  },
  {
   "cell_type": "code",
   "execution_count": 15,
   "metadata": {},
   "outputs": [
    {
     "data": {
      "text/plain": [
       "array([[111, 123],\n",
       "       [109, 115],\n",
       "       [123, 128]])"
      ]
     },
     "execution_count": 15,
     "metadata": {},
     "output_type": "execute_result"
    }
   ],
   "source": [
    "np.random.choice(b,(3,2))"
   ]
  },
  {
   "cell_type": "code",
   "execution_count": 17,
   "metadata": {},
   "outputs": [
    {
     "data": {
      "text/plain": [
       "array([[188, 111],\n",
       "       [123, 115],\n",
       "       [174, 128]])"
      ]
     },
     "execution_count": 17,
     "metadata": {},
     "output_type": "execute_result"
    }
   ],
   "source": [
    "#replace=False  元素是否需要重复出现\n",
    "np.random.choice(b,(3,2),replace=False)"
   ]
  },
  {
   "cell_type": "code",
   "execution_count": 18,
   "metadata": {},
   "outputs": [
    {
     "data": {
      "text/plain": [
       "array([[194, 188],\n",
       "       [109, 111],\n",
       "       [174, 109]])"
      ]
     },
     "execution_count": 18,
     "metadata": {},
     "output_type": "execute_result"
    }
   ],
   "source": [
    "#p=b/np.sum(b)为每个元素赋值抽取的概率\n",
    "np.random.choice(b,(3,2),p=b/np.sum(b))"
   ]
  },
  {
   "cell_type": "code",
   "execution_count": null,
   "metadata": {},
   "outputs": [],
   "source": [
    "#uniform(low,high,size)  产生具有均匀分布的数组,low起始值,high结束值,size形状\n",
    "#normal(loc,scale,size)  产生具有正态分布的数组,loc均值,scale标准差,size形状\n",
    "#poisson(lam,size)   产生具有泊松分布的数组,lam随机事件发生率,size形状"
   ]
  },
  {
   "cell_type": "code",
   "execution_count": null,
   "metadata": {},
   "outputs": [],
   "source": []
  },
  {
   "cell_type": "code",
   "execution_count": null,
   "metadata": {},
   "outputs": [],
   "source": []
  }
 ],
 "metadata": {
  "kernelspec": {
   "display_name": "Python 3",
   "language": "python",
   "name": "python3"
  },
  "language_info": {
   "codemirror_mode": {
    "name": "ipython",
    "version": 3
   },
   "file_extension": ".py",
   "mimetype": "text/x-python",
   "name": "python",
   "nbconvert_exporter": "python",
   "pygments_lexer": "ipython3",
   "version": "3.7.6"
  }
 },
 "nbformat": 4,
 "nbformat_minor": 4
}
