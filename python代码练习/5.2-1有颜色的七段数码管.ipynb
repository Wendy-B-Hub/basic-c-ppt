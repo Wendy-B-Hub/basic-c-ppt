{
 "cells": [
  {
   "cell_type": "code",
   "execution_count": 5,
   "metadata": {},
   "outputs": [],
   "source": [
    "import turtle\n",
    "import time\n",
    "def drawLine(draw):\n",
    "    turtle.pendown() if draw else turtle.penup()\n",
    "    turtle.fd(40)\n",
    "    turtle.right(90)\n",
    "def drawDigit(digit):\n",
    "        drawLine(True) if digit in [2,3,4,5,6,8,9]  else drawLine(False)\n",
    "        drawLine(True) if digit in [0,1,3,4,5,6,7,8,9]  else drawLine(False)\n",
    "        drawLine(True) if digit in [0,2,3,5,6,8,9]  else drawLine(False)\n",
    "        drawLine(True) if digit in [0,2,6,8]  else drawLine(False)\n",
    "        turtle.left(90)\n",
    "        drawLine(True) if digit in [0,4,5,6,8,9]  else drawLine(False)\n",
    "        drawLine(True) if digit in [0,2,3,5,6,7,8,9]  else drawLine(False)\n",
    "        drawLine(True) if digit in [0,1,2,3,4,7,8,9]  else drawLine(False)\n",
    "        turtle.left(180)\n",
    "        turtle.penup()\n",
    "        turtle.fd(20)\n",
    "def drawDate(date):\n",
    "    turtle.pencolor(\"red\")\n",
    "    for i in date:\n",
    "        if i=='-':\n",
    "            turtle.write(\"年\",font=(\"Arial\",18,\"normal\"))\n",
    "            turtle.pencolor(\"green\")\n",
    "            turtle.fd(40)\n",
    "        elif i=='=':\n",
    "            turtle.write(\"月\",font=(\"Arial\",18,\"normal\"))\n",
    "            turtle.pencolor(\"blue\")\n",
    "            turtle.fd(40)\n",
    "        elif i=='+':\n",
    "            turtle.write(\"日\",font=(\"Arial\",18,\"normal\"))\n",
    "        else:\n",
    "             drawDigit(eval(i))\n",
    "def main():\n",
    "    turtle.setup(800,350,200,200)\n",
    "    turtle.penup()\n",
    "    turtle.fd(-300)\n",
    "    turtle.pensize(5)\n",
    "    drawDate(time.strftime('%Y-%m=%d+',time.gmtime()))\n",
    "    turtle.hideturtle()\n",
    "    turtle.done()\n",
    "main()"
   ]
  },
  {
   "cell_type": "code",
   "execution_count": null,
   "metadata": {},
   "outputs": [],
   "source": []
  },
  {
   "cell_type": "code",
   "execution_count": null,
   "metadata": {},
   "outputs": [],
   "source": []
  }
 ],
 "metadata": {
  "kernelspec": {
   "display_name": "Python 3",
   "language": "python",
   "name": "python3"
  },
  "language_info": {
   "codemirror_mode": {
    "name": "ipython",
    "version": 3
   },
   "file_extension": ".py",
   "mimetype": "text/x-python",
   "name": "python",
   "nbconvert_exporter": "python",
   "pygments_lexer": "ipython3",
   "version": "3.7.6"
  }
 },
 "nbformat": 4,
 "nbformat_minor": 4
}
