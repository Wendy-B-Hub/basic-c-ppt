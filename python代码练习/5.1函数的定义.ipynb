{
 "cells": [
  {
   "cell_type": "code",
   "execution_count": null,
   "metadata": {},
   "outputs": [],
   "source": [
    "#函数定义\n",
    "#def <函数名>(<参数0个或多个>):\n",
    "#    <函数体>\n",
    "#   return<返回值>"
   ]
  },
  {
   "cell_type": "code",
   "execution_count": 4,
   "metadata": {},
   "outputs": [
    {
     "name": "stdout",
     "output_type": "stream",
     "text": [
      "6\n"
     ]
    }
   ],
   "source": [
    "#case 1：calculate n!\n",
    "def fact(n):\n",
    "    s=1\n",
    "    for i in range(1,n+1):\n",
    "        s*=i\n",
    "    return s\n",
    "while(fact(3)>0):\n",
    "    print(fact(3))\n",
    "    break"
   ]
  },
  {
   "cell_type": "code",
   "execution_count": 5,
   "metadata": {},
   "outputs": [
    {
     "name": "stdout",
     "output_type": "stream",
     "text": [
      "720\n"
     ]
    }
   ],
   "source": [
    "#可选参数传递,可选参数必须放在必选参数之后\n",
    "def fact(n,m=1):\n",
    "    s=1\n",
    "    for i in range(1,n+1):\n",
    "        s*=i\n",
    "    return s//m\n",
    "a=fact(6)\n",
    "print(a)"
   ]
  },
  {
   "cell_type": "code",
   "execution_count": 6,
   "metadata": {},
   "outputs": [
    {
     "name": "stdout",
     "output_type": "stream",
     "text": [
      "102\n"
     ]
    }
   ],
   "source": [
    "def fact(n,m=7):\n",
    "    s=1\n",
    "    for i in range(1,n+1):\n",
    "        s*=i\n",
    "    return s//m\n",
    "a=fact(6,7)\n",
    "print(a)"
   ]
  },
  {
   "cell_type": "code",
   "execution_count": null,
   "metadata": {},
   "outputs": [],
   "source": [
    "#可变参数传递 fact(n,*b)  第二个为可变参数"
   ]
  },
  {
   "cell_type": "code",
   "execution_count": 8,
   "metadata": {},
   "outputs": [
    {
     "name": "stdout",
     "output_type": "stream",
     "text": [
      "10886400\n",
      "435456000\n"
     ]
    }
   ],
   "source": [
    "def fact(n,*b):\n",
    "    s=1\n",
    "    for i in range(1,n+1):\n",
    "        s*=i\n",
    "    for item in b:\n",
    "        s*=item\n",
    "    return s\n",
    "a=fact(10,3)\n",
    "print(a)\n",
    "b=fact(10,3,5,8)\n",
    "print(b)"
   ]
  },
  {
   "cell_type": "code",
   "execution_count": null,
   "metadata": {},
   "outputs": [],
   "source": [
    "#参数传递的两种方式\n",
    "#函数调用时，参数可以按照位置或名称方式传递"
   ]
  },
  {
   "cell_type": "code",
   "execution_count": 9,
   "metadata": {},
   "outputs": [
    {
     "name": "stdout",
     "output_type": "stream",
     "text": [
      "725760\n"
     ]
    }
   ],
   "source": [
    "def fact(n,m=1):\n",
    "    s=1\n",
    "    for i in range(1,n+1):\n",
    "        s*=i\n",
    "    return s//m\n",
    "print(fact(10,5))"
   ]
  },
  {
   "cell_type": "code",
   "execution_count": null,
   "metadata": {},
   "outputs": [],
   "source": [
    "#函数的返回值\n",
    "#return 可以传递 0个返回值，也可以传递任意多个返回值  返回的多个值是元祖类型"
   ]
  },
  {
   "cell_type": "code",
   "execution_count": 10,
   "metadata": {},
   "outputs": [
    {
     "name": "stdout",
     "output_type": "stream",
     "text": [
      "(725760, 10, 5)\n"
     ]
    }
   ],
   "source": [
    "def fact(n,m=1):\n",
    "    s=1\n",
    "    for i in range(1,n+1):\n",
    "        s*=i\n",
    "    return s//m,n,m\n",
    "print(fact(10,5))"
   ]
  },
  {
   "cell_type": "code",
   "execution_count": null,
   "metadata": {},
   "outputs": [],
   "source": []
  }
 ],
 "metadata": {
  "kernelspec": {
   "display_name": "Python 3",
   "language": "python",
   "name": "python3"
  },
  "language_info": {
   "codemirror_mode": {
    "name": "ipython",
    "version": 3
   },
   "file_extension": ".py",
   "mimetype": "text/x-python",
   "name": "python",
   "nbconvert_exporter": "python",
   "pygments_lexer": "ipython3",
   "version": "3.7.6"
  }
 },
 "nbformat": 4,
 "nbformat_minor": 4
}
