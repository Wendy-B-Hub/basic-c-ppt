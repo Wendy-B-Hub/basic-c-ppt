{
 "cells": [
  {
   "cell_type": "code",
   "execution_count": 7,
   "metadata": {},
   "outputs": [
    {
     "name": "stdout",
     "output_type": "stream",
     "text": [
      "这个程序模拟两个选手A和B的某种竞技比赛\n",
      "程序运行需要A和B的能力值(以0到1之间的小数表示)\n"
     ]
    },
    {
     "name": "stdin",
     "output_type": "stream",
     "text": [
      "请输入选手A的能力值(0-1): 0.58755\n",
      "请输入选手B的能力值(0-1): 0.58373\n",
      "模拟比赛的场次: 1000\n"
     ]
    },
    {
     "name": "stdout",
     "output_type": "stream",
     "text": [
      "竞技分析开始，共模拟1000场比赛\n",
      "选手A获胜825场比赛，占比82.5%\n",
      "选手B获胜175场比赛，占比17.5%\n"
     ]
    }
   ],
   "source": [
    "from random import random\n",
    "def printIntro():\n",
    "    print(\"这个程序模拟两个选手A和B的某种竞技比赛\")\n",
    "    print(\"程序运行需要A和B的能力值(以0到1之间的小数表示)\")\n",
    "def getInputs():\n",
    "    a=eval(input(\"请输入选手A的能力值(0-1):\"))\n",
    "    b=eval(input(\"请输入选手B的能力值(0-1):\"))\n",
    "    n=eval(input(\"模拟比赛的场次:\"))\n",
    "    return a,b,n\n",
    "def printSummary(winsA,winsB):\n",
    "    n=winsA+winsB\n",
    "    print(\"竞技分析开始，共模拟{}场比赛\".format(n))\n",
    "    print(\"选手A获胜{}场比赛，占比{:0.1%}\".format(winsA,winsA/n))\n",
    "    print(\"选手B获胜{}场比赛，占比{:0.1%}\".format(winsB,winsB/n))\n",
    "def gameOver(a,b):\n",
    "    return a==15 or b==15\n",
    "def simOneGame(probA,probB):\n",
    "    scoreA,scoreB=0,0\n",
    "    serving=\"A\"\n",
    "    while not gameOver(scoreA,scoreB):\n",
    "        if serving==\"A\":\n",
    "            if random()<probA:\n",
    "                scoreA+=1\n",
    "            else:\n",
    "                scoreB+=1\n",
    "        else:\n",
    "            if random()<proB:\n",
    "                scoreB+=1\n",
    "            else:\n",
    "                scoreA+=1\n",
    "    return scoreA,scoreB\n",
    "def sumNGames(n,probA,probB):\n",
    "    winsA,winsB=0,0\n",
    "    for i in range(n):\n",
    "        scoreA,scoreB=simOneGame(probA,probB)\n",
    "        if scoreA>scoreB:\n",
    "            winsA+=1\n",
    "        else:\n",
    "            winsB+=1\n",
    "    return winsA,winsB\n",
    "def main():\n",
    "    printIntro()\n",
    "    proA,proB,n=getInputs()\n",
    "    winsA,winsB=sumNGames(n,proA,proB)\n",
    "    printSummary(winsA,winsB)\n",
    "main()"
   ]
  },
  {
   "cell_type": "code",
   "execution_count": null,
   "metadata": {},
   "outputs": [],
   "source": []
  }
 ],
 "metadata": {
  "kernelspec": {
   "display_name": "Python 3",
   "language": "python",
   "name": "python3"
  },
  "language_info": {
   "codemirror_mode": {
    "name": "ipython",
    "version": 3
   },
   "file_extension": ".py",
   "mimetype": "text/x-python",
   "name": "python",
   "nbconvert_exporter": "python",
   "pygments_lexer": "ipython3",
   "version": "3.7.6"
  }
 },
 "nbformat": 4,
 "nbformat_minor": 4
}
