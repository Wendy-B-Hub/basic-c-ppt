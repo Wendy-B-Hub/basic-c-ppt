{
 "cells": [
  {
   "cell_type": "code",
   "execution_count": 11,
   "metadata": {},
   "outputs": [
    {
     "name": "stdin",
     "output_type": "stream",
     "text": [
      "请输入要打开的文件名称: /Users/yashuwu/Desktop/ft.txt\n"
     ]
    },
    {
     "name": "stdout",
     "output_type": "stream",
     "text": [
      "China is a great country.\n",
      "\n",
      "today is Saturday.\n",
      "\n",
      "and i am in USA now.\n",
      "\n",
      "I want to work.\n"
     ]
    }
   ],
   "source": [
    "fname=input(\"请输入要打开的文件名称:\")\n",
    "fo=open(fname,\"r\")\n",
    "for line in fo:\n",
    "    print(line)\n",
    "fo.close()"
   ]
  },
  {
   "cell_type": "code",
   "execution_count": null,
   "metadata": {},
   "outputs": [],
   "source": [
    "#<f>.seek(offset) 改变当前文件操作指针的位置，0-文件的开头，1-当前位置，2-文件结尾\n",
    "#f.seek(0)  回到文件开头"
   ]
  },
  {
   "cell_type": "code",
   "execution_count": 25,
   "metadata": {},
   "outputs": [
    {
     "name": "stdout",
     "output_type": "stream",
     "text": [
      "ChinaUSAFrance\n"
     ]
    }
   ],
   "source": [
    "fo=open(\"/Users/yashuwu/Desktop/ft.txt\",\"w+\")\n",
    "ls=[\"China\",\"USA\",\"France\"]\n",
    "fo.writelines(ls)\n",
    "#由于此时写完后，指标在文件尾，所以读不出任何信息\n",
    "for line in fo:\n",
    "    print(line)\n",
    "fo.close()\n",
    "txt=open(\"/Users/yashuwu/Desktop/ft.txt\")\n",
    "for line in txt:\n",
    "    print(line)\n",
    "txt.close()"
   ]
  },
  {
   "cell_type": "code",
   "execution_count": 26,
   "metadata": {},
   "outputs": [
    {
     "name": "stdout",
     "output_type": "stream",
     "text": [
      "ChinaUSAinteresting\n"
     ]
    }
   ],
   "source": [
    "fo=open(\"/Users/yashuwu/Desktop/ft.txt\",\"w+\")\n",
    "ls=[\"China\",\"USA\",\"interesting\"]\n",
    "fo.writelines(ls)\n",
    "fo.seek(0)\n",
    "for line in fo:\n",
    "    print(line)\n",
    "fo.close()"
   ]
  },
  {
   "cell_type": "code",
   "execution_count": 32,
   "metadata": {},
   "outputs": [
    {
     "name": "stdout",
     "output_type": "stream",
     "text": [
      "China is a great country.\n",
      "\n",
      "today is Saturday.\n",
      "\n",
      "and i am in USA now.\n",
      "\n",
      "I want to work.ChinaUSAinterestingChinaUSAinterestingChinaUSAinterestingChinaUSAinterestingChinaUSAinteresting\n"
     ]
    }
   ],
   "source": [
    "fo=open(\"/Users/yashuwu/Desktop/ft.txt\",\"a+\")\n",
    "ls=[\"China\",\"USA\",\"interesting\"]\n",
    "fo.writelines(ls)\n",
    "fo.seek(0)\n",
    "for line in fo:\n",
    "    print(line)\n",
    "fo.close()"
   ]
  },
  {
   "cell_type": "code",
   "execution_count": null,
   "metadata": {},
   "outputs": [],
   "source": []
  }
 ],
 "metadata": {
  "kernelspec": {
   "display_name": "Python 3",
   "language": "python",
   "name": "python3"
  },
  "language_info": {
   "codemirror_mode": {
    "name": "ipython",
    "version": 3
   },
   "file_extension": ".py",
   "mimetype": "text/x-python",
   "name": "python",
   "nbconvert_exporter": "python",
   "pygments_lexer": "ipython3",
   "version": "3.7.6"
  }
 },
 "nbformat": 4,
 "nbformat_minor": 4
}
