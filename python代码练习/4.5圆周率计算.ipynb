{
 "cells": [
  {
   "cell_type": "code",
   "execution_count": 16,
   "metadata": {},
   "outputs": [
    {
     "name": "stdout",
     "output_type": "stream",
     "text": [
      "圆周率值是：3.30978413602279\n",
      "50.97167403699996\n"
     ]
    }
   ],
   "source": [
    "import time\n",
    "pi=0\n",
    "N=100000\n",
    "start=time.perf_counter()\n",
    "for k in range(N):\n",
    "    pi+=1/pow(16,k)*(4/(8*k+1)-2/(8*k+6)-1/(8*k+5)-1/(8*k+6))\n",
    "dur=time.perf_counter()-start\n",
    "print(\"圆周率值是：{}\\n{}\".format(pi,dur))\n"
   ]
  },
  {
   "cell_type": "code",
   "execution_count": 15,
   "metadata": {},
   "outputs": [
    {
     "name": "stdout",
     "output_type": "stream",
     "text": [
      "pi=3.137428\n",
      "time:0.4834647990\n"
     ]
    }
   ],
   "source": [
    "from random import random\n",
    "from time import perf_counter\n",
    "darts=1000*1000\n",
    "hits=0.0\n",
    "start=time.perf_counter()\n",
    "for i in range(1,darts+1):\n",
    "    x,y=random(),random()\n",
    "    dist=pow(x**2+y**2,0.5)\n",
    "    if(dist<=1) :\n",
    "        hits+=1\n",
    "pi=4*(hits/darts)\n",
    "dur=time.perf_counter()-start\n",
    "print(\"pi={}\\ntime:{:.10f}\".format(pi,dur))"
   ]
  },
  {
   "cell_type": "code",
   "execution_count": null,
   "metadata": {},
   "outputs": [],
   "source": []
  }
 ],
 "metadata": {
  "kernelspec": {
   "display_name": "Python 3",
   "language": "python",
   "name": "python3"
  },
  "language_info": {
   "codemirror_mode": {
    "name": "ipython",
    "version": 3
   },
   "file_extension": ".py",
   "mimetype": "text/x-python",
   "name": "python",
   "nbconvert_exporter": "python",
   "pygments_lexer": "ipython3",
   "version": "3.7.6"
  }
 },
 "nbformat": 4,
 "nbformat_minor": 4
}
