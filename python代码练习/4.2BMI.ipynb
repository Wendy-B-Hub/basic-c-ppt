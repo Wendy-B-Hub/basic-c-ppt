{
 "cells": [
  {
   "cell_type": "code",
   "execution_count": 2,
   "metadata": {},
   "outputs": [
    {
     "name": "stdin",
     "output_type": "stream",
     "text": [
      "请输入身高(m)和体重(kg)[逗号隔开]: 1.58,46\n"
     ]
    }
   ],
   "source": [
    "height,weight=eval(input(\"请输入身高(m)和体重(kg)[逗号隔开]:\"))"
   ]
  },
  {
   "cell_type": "code",
   "execution_count": 3,
   "metadata": {},
   "outputs": [],
   "source": [
    "bmi=weight/(pow(height,2))"
   ]
  },
  {
   "cell_type": "code",
   "execution_count": 4,
   "metadata": {},
   "outputs": [
    {
     "name": "stdout",
     "output_type": "stream",
     "text": [
      "BMI的数值为:18.43\n"
     ]
    }
   ],
   "source": [
    "print(\"BMI的数值为:{:.2f}\".format(bmi))"
   ]
  },
  {
   "cell_type": "code",
   "execution_count": 5,
   "metadata": {},
   "outputs": [],
   "source": [
    "who,nat=\"\",\"\""
   ]
  },
  {
   "cell_type": "code",
   "execution_count": 6,
   "metadata": {},
   "outputs": [],
   "source": [
    "if bmi<18.5:\n",
    "    who,nat=\"thin\",\"thin\""
   ]
  },
  {
   "cell_type": "code",
   "execution_count": 12,
   "metadata": {},
   "outputs": [],
   "source": [
    "who,nat=\"\",\"\"\n",
    "if bmi<18.5:\n",
    "    who,nat=\"thin\",\"thin\"\n",
    "elif 18.5<=bmi<24:\n",
    "    who,nat=\"normal\",\"normal\"\n",
    "elif 24<=bmi<25:\n",
    "    who,nat=\"normal\",\"fat\"\n",
    "elif 25<=bmi<28:\n",
    "    who,nat=\"fat\",\"fat\"\n",
    "elif 28<=bmi<30:\n",
    "    who,nat=\"fat\",\"obiet\"\n",
    "else:\n",
    "    who,nat=\"obiet\",\"obiet\""
   ]
  },
  {
   "cell_type": "code",
   "execution_count": 12,
   "metadata": {},
   "outputs": [],
   "source": [
    "who,nat=\"\",\"\"\n",
    "if bmi<18.5:\n",
    "    who,nat=\"thin\",\"thin\"\n",
    "elif 18.5<=bmi<24:\n",
    "    who,nat=\"normal\",\"normal\"\n",
    "elif 24<=bmi<25:\n",
    "    who,nat=\"normal\",\"fat\"\n",
    "elif 25<=bmi<28:\n",
    "    who,nat=\"fat\",\"fat\"\n",
    "elif 28<=bmi<30:\n",
    "    who,nat=\"fat\",\"obiet\"\n",
    "else:\n",
    "    who,nat=\"obiet\",\"obiet\""
   ]
  },
  {
   "cell_type": "code",
   "execution_count": 13,
   "metadata": {},
   "outputs": [
    {
     "name": "stdout",
     "output_type": "stream",
     "text": [
      "BMI指标为国际'thin'，国内'thin'\n"
     ]
    }
   ],
   "source": [
    "print(\"BMI指标为国际'{0}'，国内'{1}'\".format(who,nat))"
   ]
  },
  {
   "cell_type": "code",
   "execution_count": 14,
   "metadata": {},
   "outputs": [
    {
     "name": "stdout",
     "output_type": "stream",
     "text": [
      "BMI指标为国际thin，国内thin\n"
     ]
    }
   ],
   "source": [
    "print(\"BMI指标为国际{}，国内{}\".format(who,nat))"
   ]
  }
 ],
 "metadata": {
  "kernelspec": {
   "display_name": "Python 3",
   "language": "python",
   "name": "python3"
  },
  "language_info": {
   "codemirror_mode": {
    "name": "ipython",
    "version": 3
   },
   "file_extension": ".py",
   "mimetype": "text/x-python",
   "name": "python",
   "nbconvert_exporter": "python",
   "pygments_lexer": "ipython3",
   "version": "3.7.6"
  }
 },
 "nbformat": 4,
 "nbformat_minor": 4
}
