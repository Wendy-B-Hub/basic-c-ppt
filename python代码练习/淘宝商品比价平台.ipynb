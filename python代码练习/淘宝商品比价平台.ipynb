{
 "cells": [
  {
   "cell_type": "code",
   "execution_count": null,
   "metadata": {},
   "outputs": [],
   "source": [
    "#淘宝的搜索接口\n",
    "#淘宝的翻页处理\n",
    "#requests -re\n",
    "#eg:https://s.taobao.com/search?q=%E4%B9%A6%E5%8C%85&type=p&tmhkh5=&spm=a21wu.241046-us.a2227oh.d100&from=\n",
    "#    sea_1_searchbutton&catId=100\n",
    "#第二页：https://s.taobao.com/search?q=%E4%B9%A6%E5%8C%85&type=p&tmhkh5=&spm=a21wu.241046-us.a2227oh.d100&from=\n",
    "#    sea_1_searchbutton&catId=100&bcoffset=3&ntoffset=3&p4ppushleft=1%2C48&s=44\n",
    "#第三页:https://s.taobao.com/search?q=%E4%B9%A6%E5%8C%85&type=p&tmhkh5=&spm=a21wu.241046-us.a2227oh.d100&from=\n",
    "#    sea_1_searchbutton&catId=100&bcoffset=0&ntoffset=6&p4ppushleft=1%2C48&s=88"
   ]
  },
  {
   "cell_type": "code",
   "execution_count": 4,
   "metadata": {},
   "outputs": [
    {
     "name": "stdout",
     "output_type": "stream",
     "text": [
      "User-agent: Baiduspider\n",
      "Disallow: /\n",
      "\n",
      "User-agent: baiduspider\n",
      "Disallow: /\n",
      "\n"
     ]
    }
   ],
   "source": [
    "#查看淘宝的robots协议\n",
    "import requests\n",
    "from bs4 import BeautifulSoup\n",
    "url=\"http://www.taobao.com/robots.txt\"\n",
    "r=requests.get(url)\n",
    "demo=r.text\n",
    "soup=BeautifulSoup(demo,\"html.parser\")\n",
    "print(soup.prettify())"
   ]
  },
  {
   "cell_type": "code",
   "execution_count": 8,
   "metadata": {},
   "outputs": [
    {
     "name": "stdout",
     "output_type": "stream",
     "text": [
      "序号  \t价格      \t商品名称            \n"
     ]
    }
   ],
   "source": [
    "import requests\n",
    "import re\n",
    "def getHTMLText(url):\n",
    "    try:\n",
    "        r=requests.get(url,timeout=30)\n",
    "        r.raise_for_status()\n",
    "        r.encoding=r.apparent_encoding\n",
    "        return r.text\n",
    "    except:\n",
    "        return \"\"\n",
    "def parsePage(ilt,html):\n",
    "    try:\n",
    "        plt=re.findall(r'\\\"view_price\\\"\\\"[\\d\\.]*\\\"',html)\n",
    "        tlt=re.findall(r'\"raw_title\\\"\\:\\\".*?\\\"',html)\n",
    "        for i in range(len(plt)):\n",
    "            price=eval(plt[i].split(':')[1])\n",
    "            title=eval(tlt[i].split(':')[1])\n",
    "            ilt.append([price,title])\n",
    "            print(\"\")\n",
    "    except:\n",
    "        print(\"\")\n",
    "def printGoodList(ilt):\n",
    "    tplt=\"{:4}\\t{:8}\\t{:16}\"\n",
    "    print(tplt.format(\"序号\",\"价格\",\"商品名称\"))\n",
    "    cnt=0\n",
    "    for g in ilt:\n",
    "        cnt=cnt+1\n",
    "        print(tplt.format(cnt,g[0],g[1]))\n",
    "def main():\n",
    "    goods='书包'\n",
    "    depth=2\n",
    "    start_url='https://s.taobao.com/search?q='+goods\n",
    "    infoList=[]\n",
    "    for i in range(depth):\n",
    "        try:\n",
    "            url=start_url+'&s='+str(44*i)\n",
    "            html=getHTMLText(url)\n",
    "            parsePage(infoList,html)\n",
    "        except:\n",
    "            continue\n",
    "    printGoodList(infoList)\n",
    "main()"
   ]
  },
  {
   "cell_type": "code",
   "execution_count": null,
   "metadata": {},
   "outputs": [],
   "source": []
  }
 ],
 "metadata": {
  "kernelspec": {
   "display_name": "Python 3",
   "language": "python",
   "name": "python3"
  },
  "language_info": {
   "codemirror_mode": {
    "name": "ipython",
    "version": 3
   },
   "file_extension": ".py",
   "mimetype": "text/x-python",
   "name": "python",
   "nbconvert_exporter": "python",
   "pygments_lexer": "ipython3",
   "version": "3.7.6"
  }
 },
 "nbformat": 4,
 "nbformat_minor": 4
}
