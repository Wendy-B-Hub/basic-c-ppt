{
 "cells": [
  {
   "cell_type": "code",
   "execution_count": 1,
   "metadata": {},
   "outputs": [
    {
     "name": "stdout",
     "output_type": "stream",
     "text": [
      "(3024, 4032, 3) uint8\n"
     ]
    }
   ],
   "source": [
    "#图像是一个三维数组，维度分别是高度、宽度和像素RGB值\n",
    "from PIL import Image\n",
    "import numpy as np\n",
    "im=np.array(Image.open(\"/Users/yashuwu/Desktop/church.jpeg\"))\n",
    "print(im.shape,im.dtype)"
   ]
  },
  {
   "cell_type": "code",
   "execution_count": 4,
   "metadata": {},
   "outputs": [],
   "source": [
    "#图像的变换\n",
    "from PIL import Image\n",
    "import numpy as np\n",
    "a=np.array(Image.open(\"/Users/yashuwu/Desktop/church.jpeg\"))\n",
    "b=[255,255,255]-a   #计算补值\n",
    "im=Image.fromarray(b.astype('uint8'))    #重新生成一个图像文件\n",
    "im.save(\"/Users/yashuwu/Desktop/church22.jpeg\")"
   ]
  },
  {
   "cell_type": "code",
   "execution_count": 7,
   "metadata": {},
   "outputs": [],
   "source": [
    "from PIL import Image\n",
    "import numpy as np\n",
    "a=np.array(Image.open(\"/Users/yashuwu/Desktop/church.jpeg\").convert('L'))   #convert('L')将彩色图片变为灰色值图片\n",
    "b=255-a   #对灰度值取反\n",
    "im=Image.fromarray(b.astype('uint8'))    #重新生成一个图像文件\n",
    "im.save(\"/Users/yashuwu/Desktop/church33.jpeg\")"
   ]
  },
  {
   "cell_type": "code",
   "execution_count": 8,
   "metadata": {},
   "outputs": [],
   "source": [
    "from PIL import Image\n",
    "import numpy as np\n",
    "a=np.array(Image.open(\"/Users/yashuwu/Desktop/church.jpeg\").convert('L'))   #convert('L')将彩色图片变为灰色值图片\n",
    "c=(100/255)*a+150   #区间变换 将当前图片的灰度值做压缩，再+150\n",
    "im=Image.fromarray(c.astype('uint8'))    #重新生成一个图像文件\n",
    "im.save(\"/Users/yashuwu/Desktop/church44.jpeg\")"
   ]
  },
  {
   "cell_type": "code",
   "execution_count": 9,
   "metadata": {},
   "outputs": [],
   "source": [
    "from PIL import Image\n",
    "import numpy as np\n",
    "a=np.array(Image.open(\"/Users/yashuwu/Desktop/church.jpeg\").convert('L'))   #convert('L')将彩色图片变为灰色值图片\n",
    "d=255*(a/255)**2   #区间变换 像素平方\n",
    "im=Image.fromarray(d.astype('uint8'))    #重新生成一个图像文件\n",
    "im.save(\"/Users/yashuwu/Desktop/church55.jpeg\")"
   ]
  },
  {
   "cell_type": "code",
   "execution_count": null,
   "metadata": {},
   "outputs": [],
   "source": []
  }
 ],
 "metadata": {
  "kernelspec": {
   "display_name": "Python 3",
   "language": "python",
   "name": "python3"
  },
  "language_info": {
   "codemirror_mode": {
    "name": "ipython",
    "version": 3
   },
   "file_extension": ".py",
   "mimetype": "text/x-python",
   "name": "python",
   "nbconvert_exporter": "python",
   "pygments_lexer": "ipython3",
   "version": "3.7.6"
  }
 },
 "nbformat": 4,
 "nbformat_minor": 4
}
