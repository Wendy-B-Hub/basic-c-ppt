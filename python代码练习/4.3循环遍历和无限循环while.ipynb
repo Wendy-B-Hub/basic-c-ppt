{
 "cells": [
  {
   "cell_type": "code",
   "execution_count": 1,
   "metadata": {},
   "outputs": [
    {
     "name": "stdout",
     "output_type": "stream",
     "text": [
      "hello world0time\n",
      "hello world1time\n",
      "hello world2time\n",
      "hello world3time\n",
      "hello world4time\n"
     ]
    }
   ],
   "source": [
    "for i in range(5):\n",
    "    print(\"hello world{}time\".format(i))"
   ]
  },
  {
   "cell_type": "code",
   "execution_count": 2,
   "metadata": {},
   "outputs": [
    {
     "name": "stdout",
     "output_type": "stream",
     "text": [
      "1\n",
      "2\n",
      "3\n",
      "4\n",
      "5\n"
     ]
    }
   ],
   "source": [
    "for i in range(1,6):\n",
    "    print(i)"
   ]
  },
  {
   "cell_type": "code",
   "execution_count": 3,
   "metadata": {},
   "outputs": [
    {
     "name": "stdout",
     "output_type": "stream",
     "text": [
      "hello: 1\n",
      "hello: 3\n",
      "hello: 5\n"
     ]
    }
   ],
   "source": [
    "for i in range(1,6,2):\n",
    "    print(\"hello:\",i)"
   ]
  },
  {
   "cell_type": "code",
   "execution_count": 4,
   "metadata": {},
   "outputs": [
    {
     "name": "stdout",
     "output_type": "stream",
     "text": [
      "p,y,t,h,o,n,1,2,3,"
     ]
    }
   ],
   "source": [
    "for c in \"python123\":\n",
    "    print(c,end=\",\")"
   ]
  },
  {
   "cell_type": "code",
   "execution_count": 5,
   "metadata": {},
   "outputs": [
    {
     "name": "stdout",
     "output_type": "stream",
     "text": [
      "python123"
     ]
    }
   ],
   "source": [
    "for c in \"python123\":\n",
    "    print(c,end=\"\")"
   ]
  },
  {
   "cell_type": "code",
   "execution_count": 6,
   "metadata": {},
   "outputs": [
    {
     "name": "stdout",
     "output_type": "stream",
     "text": [
      "p*y*t*h*o*n*1*2*3*"
     ]
    }
   ],
   "source": [
    "for c in \"python123\":\n",
    "    print(c,end=\"*\")"
   ]
  },
  {
   "cell_type": "code",
   "execution_count": 7,
   "metadata": {},
   "outputs": [
    {
     "name": "stdout",
     "output_type": "stream",
     "text": [
      "p\n",
      "y\n",
      "t\n",
      "h\n",
      "o\n",
      "n\n",
      "1\n",
      "2\n",
      "3\n"
     ]
    }
   ],
   "source": [
    "for c in \"python123\":\n",
    "    print(c,end=\"\\n\")"
   ]
  },
  {
   "cell_type": "code",
   "execution_count": 12,
   "metadata": {},
   "outputs": [
    {
     "name": "stdout",
     "output_type": "stream",
     "text": [
      "3\r"
     ]
    }
   ],
   "source": [
    "import time\n",
    "for c in \"python123\":\n",
    "    print(c,end=\"\\r\")\n",
    "    time.sleep(0.000000001)"
   ]
  },
  {
   "cell_type": "code",
   "execution_count": 13,
   "metadata": {},
   "outputs": [
    {
     "name": "stdout",
     "output_type": "stream",
     "text": [
      "123,py,245,"
     ]
    }
   ],
   "source": [
    "for item in [123,\"py\",245]:\n",
    "    print(item,end=\",\")\n"
   ]
  },
  {
   "cell_type": "code",
   "execution_count": null,
   "metadata": {},
   "outputs": [],
   "source": [
    "#文件遍历循环 ，fi是一个文件标识符，遍历其每行，产生循环"
   ]
  },
  {
   "cell_type": "code",
   "execution_count": null,
   "metadata": {},
   "outputs": [],
   "source": [
    "#无限循环 while"
   ]
  },
  {
   "cell_type": "code",
   "execution_count": 14,
   "metadata": {},
   "outputs": [
    {
     "name": "stdout",
     "output_type": "stream",
     "text": [
      "2\n",
      "1\n",
      "0\n"
     ]
    }
   ],
   "source": [
    "a=3\n",
    "while a>0:\n",
    "    a-=1\n",
    "    print(a)"
   ]
  },
  {
   "cell_type": "code",
   "execution_count": null,
   "metadata": {},
   "outputs": [],
   "source": [
    "#break,continue保留字\n",
    "#循环和else,没有正常退出就执行else,类似于异常处理"
   ]
  },
  {
   "cell_type": "code",
   "execution_count": 22,
   "metadata": {},
   "outputs": [
    {
     "name": "stdout",
     "output_type": "stream",
     "text": [
      "p,y,h,o,n,正常退出\n"
     ]
    }
   ],
   "source": [
    "for c in \"python\":\n",
    "    if c==\"t\":\n",
    "        continue\n",
    "    print(c,end=\",\")\n",
    "else:\n",
    "    print(\"正常退出\")"
   ]
  },
  {
   "cell_type": "code",
   "execution_count": 21,
   "metadata": {},
   "outputs": [
    {
     "name": "stdout",
     "output_type": "stream",
     "text": [
      "p,y,"
     ]
    }
   ],
   "source": [
    "for c in \"python\":\n",
    "    if c==\"t\":\n",
    "        break\n",
    "    print(c,end=\",\")\n",
    "else:\n",
    "    print(\"正常退出\")"
   ]
  },
  {
   "cell_type": "code",
   "execution_count": null,
   "metadata": {},
   "outputs": [],
   "source": []
  }
 ],
 "metadata": {
  "kernelspec": {
   "display_name": "Python 3",
   "language": "python",
   "name": "python3"
  },
  "language_info": {
   "codemirror_mode": {
    "name": "ipython",
    "version": 3
   },
   "file_extension": ".py",
   "mimetype": "text/x-python",
   "name": "python",
   "nbconvert_exporter": "python",
   "pygments_lexer": "ipython3",
   "version": "3.7.6"
  }
 },
 "nbformat": 4,
 "nbformat_minor": 4
}
