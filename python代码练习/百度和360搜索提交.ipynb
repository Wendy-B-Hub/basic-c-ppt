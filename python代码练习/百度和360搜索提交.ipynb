{
 "cells": [
  {
   "cell_type": "code",
   "execution_count": 2,
   "metadata": {},
   "outputs": [
    {
     "data": {
      "text/plain": [
       "200"
      ]
     },
     "execution_count": 2,
     "metadata": {},
     "output_type": "execute_result"
    }
   ],
   "source": [
    "url1=\"http://www.baidu.com/s?wd=keyword\"\n",
    "#http://www.baidu.com/s?wd=python&rsv_spt=1&rsv_iqid=0xcf4702c800093f4e&issp=1&f=8&rsv_bp=1&rsv_idx=2&ie=utf-8&rqlang=cn&tn=baiduhome_pg&rsv_enter=1&rsv_dl=tb&oq=%25E8%258A%25B1%25E5%259B%25AD&rsv_btype=t&inputT=3200&rsv_t=c3f3kPNE8hEKS65DN9iBfJsGnFKwFQT6jLiMnNLuSJ87%2FB3%2Fspi6KRDhAdMcuGP20hbZ&rsv_sug3=16&rsv_sug1=4&rsv_sug7=100&rsv_pq=bb11708c00096297&rsv_sug2=0&rsv_sug4=3685\n",
    "url2=\"http://www.so.com/s?q=\"\n",
    "import requests\n",
    "kv={'wd':'python'}\n",
    "r=requests.get(\"http://www.baidu.com/s\",params=kv)\n",
    "r.status_code"
   ]
  },
  {
   "cell_type": "code",
   "execution_count": 3,
   "metadata": {},
   "outputs": [
    {
     "data": {
      "text/plain": [
       "'https://wappass.baidu.com/static/captcha/tuxing.html?&ak=c27bbc89afca0463650ac9bde68ebe06&backurl=https%3A%2F%2Fwww.baidu.com%2Fs%3Fwd%3Dpython&logid=12078635223745007636&signature=df604ae94b5aa35c38614f5fb34fcc9c&timestamp=1587933022'"
      ]
     },
     "execution_count": 3,
     "metadata": {},
     "output_type": "execute_result"
    }
   ],
   "source": [
    "r.request.url"
   ]
  },
  {
   "cell_type": "code",
   "execution_count": 4,
   "metadata": {},
   "outputs": [
    {
     "data": {
      "text/plain": [
       "1519"
      ]
     },
     "execution_count": 4,
     "metadata": {},
     "output_type": "execute_result"
    }
   ],
   "source": [
    "len(r.text)"
   ]
  },
  {
   "cell_type": "code",
   "execution_count": 6,
   "metadata": {},
   "outputs": [
    {
     "name": "stdout",
     "output_type": "stream",
     "text": [
      "https://wappass.baidu.com/static/captcha/tuxing.html?&ak=c27bbc89afca0463650ac9bde68ebe06&backurl=https%3A%2F%2Fwww.baidu.com%2Fs%3Fwd%3Dpython&logid=9316828774885939876&signature=528e169876bec1b4ab465cc49d13296a&timestamp=1587933383\n",
      "1519\n"
     ]
    }
   ],
   "source": [
    "import requests\n",
    "keyword=\"python\"\n",
    "try:\n",
    "    kv={'wd':keyword}\n",
    "    r=requests.get(\"http://www.baidu.com/s\",params=kv)\n",
    "    print(r.request.url)\n",
    "    r.raise_for_status()\n",
    "    print(len(r.text))\n",
    "except:\n",
    "        print(\"failure\")"
   ]
  },
  {
   "cell_type": "code",
   "execution_count": null,
   "metadata": {},
   "outputs": [],
   "source": []
  }
 ],
 "metadata": {
  "kernelspec": {
   "display_name": "Python 3",
   "language": "python",
   "name": "python3"
  },
  "language_info": {
   "codemirror_mode": {
    "name": "ipython",
    "version": 3
   },
   "file_extension": ".py",
   "mimetype": "text/x-python",
   "name": "python",
   "nbconvert_exporter": "python",
   "pygments_lexer": "ipython3",
   "version": "3.7.6"
  }
 },
 "nbformat": 4,
 "nbformat_minor": 4
}
