{
 "cells": [
  {
   "cell_type": "code",
   "execution_count": null,
   "metadata": {},
   "outputs": [],
   "source": [
    "#将数据写入CSV文件\n",
    "#np.savetxt(frame, array, fmt='%.18e', delimiter=None)\n",
    "#frame : 文件、字符串或产生器，可以是.gz或.bz2的压缩文件\n",
    "#array : 存入文件的数组\n",
    "#fmt : 写入文件的格式，例如：%d %.2f %.18e\n",
    "#delimiter : 分割字符串，默认是任何空格"
   ]
  }
 ],
 "metadata": {
  "kernelspec": {
   "display_name": "Python 3",
   "language": "python",
   "name": "python3"
  },
  "language_info": {
   "codemirror_mode": {
    "name": "ipython",
    "version": 3
   },
   "file_extension": ".py",
   "mimetype": "text/x-python",
   "name": "python",
   "nbconvert_exporter": "python",
   "pygments_lexer": "ipython3",
   "version": "3.7.6"
  }
 },
 "nbformat": 4,
 "nbformat_minor": 4
}
